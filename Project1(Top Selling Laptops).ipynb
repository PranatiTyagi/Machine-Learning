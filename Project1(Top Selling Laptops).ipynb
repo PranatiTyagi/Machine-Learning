{
 "cells": [
  {
   "cell_type": "code",
   "execution_count": 6,
   "metadata": {},
   "outputs": [],
   "source": [
    "from bs4 import BeautifulSoup\n",
    "import requests\n",
    "html=requests.get(\"https://www.amazon.in/b?ie=UTF8&node=7198569031\")\n",
    "html=html.content\n",
    "bs=BeautifulSoup(html,\"lxml\")\n",
    "data=bs.find(\"div\",{\"class\":\"vxd-music-bs acsRWns_2654403a-76cf-444b-b204-e95cd8a581f9\"})"
   ]
  },
  {
   "cell_type": "code",
   "execution_count": 8,
   "metadata": {},
   "outputs": [],
   "source": [
    "rows=data.find_all(\"div\",{\"class\":\"vxd-music-bs-row\"})\n",
    "len(rows)\n",
    "info=[]\n",
    "name=[]\n",
    "price=[]\n",
    "#rows[0].find_all(\"div\",{\"class\":\"a-row a-color-secondary a-size-small\"})[0].text"
   ]
  },
  {
   "cell_type": "code",
   "execution_count": 9,
   "metadata": {},
   "outputs": [],
   "source": [
    "for i in range(len(rows)):\n",
    "      for j in range(3):\n",
    "        info.append(rows[i].find_all(\"a\")[j+1].text.strip())\n",
    "        name.append(rows[i].find_all(\"div\",{\"class\":\"a-row a-color-secondary a-size-small\"})[j].text)\n",
    "        price.append(rows[i].find_all(\"span\",{\"class\":\"a-color-price\"})[j].text.split()[-1])"
   ]
  },
  {
   "cell_type": "code",
   "execution_count": 10,
   "metadata": {},
   "outputs": [
    {
     "name": "stdout",
     "output_type": "stream",
     "text": [
      "Info                                                              Name               Price\n",
      "ASUS TUF Gaming FX570 15.6-inch FHD Laptop GTX 1050 4GB...        Asus           61,990.00\n",
      "                                                                  Acer           56,490.00\n",
      "Acer Nitro 5 AN515-42 Ryzen 5 15.6-inch Gaming FHD Laptop          HP            57,990.00\n",
      "MSI GF63 Intel Core i5 8th Gen 15.6-inch Gaming FHD Thin...       MSI            61,990.00\n",
      "                                                                  Acer           64,990.00\n",
      "Acer Nitro AN515-52 Core i5 8th Gen 15.6-inch FHD Gaming...       Dell         1,18,990.00\n",
      "Acer Nitro Core i5 8th Gen 15.6-inch Laptop , AN515-52            Acer           55,990.00\n",
      "                                                                  Dell           69,400.00\n",
      "Dell G3 3579 Core i5 8th Gen 15.6-inch FHD Laptop                Lenovo          72,989.00\n"
     ]
    }
   ],
   "source": [
    "print(\"Info\".ljust(60)+\"Name\".center(15)+\"Price\".rjust(15))\n",
    "for i in range(9):\n",
    "    print(info[i].ljust(60)+name[i].center(15)+price[i].rjust(15))"
   ]
  },
  {
   "cell_type": "code",
   "execution_count": 5,
   "metadata": {},
   "outputs": [],
   "source": []
  },
  {
   "cell_type": "code",
   "execution_count": null,
   "metadata": {},
   "outputs": [],
   "source": []
  }
 ],
 "metadata": {
  "kernelspec": {
   "display_name": "Python 3",
   "language": "python",
   "name": "python3"
  },
  "language_info": {
   "codemirror_mode": {
    "name": "ipython",
    "version": 3
   },
   "file_extension": ".py",
   "mimetype": "text/x-python",
   "name": "python",
   "nbconvert_exporter": "python",
   "pygments_lexer": "ipython3",
   "version": "3.6.4"
  }
 },
 "nbformat": 4,
 "nbformat_minor": 2
}
