{
 "cells": [
  {
   "cell_type": "markdown",
   "metadata": {},
   "source": [
    "# Project-Movies Releasing 2019"
   ]
  },
  {
   "cell_type": "code",
   "execution_count": 139,
   "metadata": {},
   "outputs": [],
   "source": [
    "from bs4 import BeautifulSoup"
   ]
  },
  {
   "cell_type": "code",
   "execution_count": 140,
   "metadata": {},
   "outputs": [],
   "source": [
    "import requests"
   ]
  },
  {
   "cell_type": "code",
   "execution_count": 141,
   "metadata": {},
   "outputs": [],
   "source": [
    "import io"
   ]
  },
  {
   "cell_type": "code",
   "execution_count": 142,
   "metadata": {},
   "outputs": [],
   "source": [
    "from PIL import Image"
   ]
  },
  {
   "cell_type": "code",
   "execution_count": 143,
   "metadata": {},
   "outputs": [],
   "source": [
    "ds=requests.get(\"https://www.scoopwhoop.com/movies-releasing-in-2019/\").content"
   ]
  },
  {
   "cell_type": "code",
   "execution_count": 221,
   "metadata": {},
   "outputs": [],
   "source": [
    "ds_image=BeautifulSoup(ds,'lxml').find_all(\"img\")\n",
    "ds_name=BeautifulSoup(ds,'lxml').find_all('h2')\n",
    "ds_date=BeautifulSoup(ds,'lxml').find_all('b')\n"
   ]
  },
  {
   "cell_type": "code",
   "execution_count": 222,
   "metadata": {},
   "outputs": [
    {
     "name": "stdout",
     "output_type": "stream",
     "text": [
      "https://q.quora.com/_/ad/9c06bd1a0f5b4983876c15cc822fa2c6/pixel?tag=ViewContent&noscript=1\n",
      "https://s4.scoopwhoop.com/v4/static/sw/mobile/images/logo.png\n",
      "https://s4.scoopwhoop.com/sw/swwebnot.png\n",
      "https://s4.scoopwhoop.com/v4/static/sw/images/cancel.png\n",
      "https://s4.scoopwhoop.com/v4/static/sw/mobile/images/logo.png\n",
      "//s4.scoopwhoop.com/v4/static/sw/images/cancel.png\n",
      "https://s4.scoopwhoop.com/v4/static/sw/mobile/images/logo.png\n",
      "//s4.scoopwhoop.com/v4/static/sw/images/cancel.png\n",
      "https://s4.scoopwhoop.com/v4/static/sw/mobile/images/logo.png\n",
      "//s4.scoopwhoop.com/v4/static/sw/images/Fb_connect.png\n",
      "//s4.scoopwhoop.com/v4/static/sw/images/Google_connect.png\n",
      "https://s4.scoopwhoop.com/anj2/5b1a4dfb6e510a7d2408a90a/ce95df28-d077-4817-a0e0-52e7b14df88f_3.jpg\n",
      "https://s3.scoopwhoop.com/anj/sw/b48d10da-5918-4559-a311-e519fe4cba80_3.jpg\n",
      "https://s4.scoopwhoop.com/anj/sw/c5e6d88b-a713-4855-b437-9b92132365d3_3.jpg\n",
      "https://s4.scoopwhoop.com/anj/sw/ad361030-37ca-4412-ad85-116c77ea258c_3.jpg\n",
      "https://s3.scoopwhoop.com/anj2/5b1a4dfb6e510a7d2408a90a/ad66b75a-2240-4dbf-a3ad-8c6d2ba3624c_3.jpg\n",
      "https://s3.scoopwhoop.com/anj/sw/b060e632-6b89-4b10-807a-8780b242a0e7_3.jpg\n",
      "https://s4.scoopwhoop.com/anj2/5b1a4dfb6e510a7d2408a90a/6afcbdc9-80e5-4ef9-a3d6-6e8bbd4c3a10_3.jpg\n",
      "https://s4.scoopwhoop.com/anj2/5b1a4dfb6e510a7d2408a90a/3016865e-e976-468a-9b09-5a4596e6d77f_3.jpg\n",
      "https://s3.scoopwhoop.com/anj2/5b1a4dfb6e510a7d2408a90a/f9931825-7f1e-4d55-b407-c734260af021_3.jpg\n",
      "https://s3.scoopwhoop.com/anj/sw/f3853546-a33c-437d-81a4-dc8128d11365_3.jpg\n",
      "https://s4.scoopwhoop.com/anj2/5b1a4dfb6e510a7d2408a90a/b5b378f4-be80-4b35-91a0-60670158581d_3.jpg\n",
      "https://s3.scoopwhoop.com/anj/sw/deb1929c-afaa-4dc8-bb96-d25388d1d8b9_3.jpg\n",
      "https://s3.scoopwhoop.com/anj2/5b1a4dfb6e510a7d2408a90a/fd84ecc3-220d-434e-bedb-3a2c97e7da8b_3.jpg\n",
      "https://s4.scoopwhoop.com/anj/sw/8aa9e581-6bbb-40fb-9cae-9ca554f48ecb_3.jpg\n",
      "https://s4.scoopwhoop.com/anj2/5b1a4dfb6e510a7d2408a90a/01c0c136-8048-409f-8e54-828d18aef609_3.jpg\n",
      "https://s3.scoopwhoop.com/anj2/5b1a4dfb6e510a7d2408a90a/d6d92398-3afe-4e50-9d3f-7fae97a22a8f_3.jpg\n",
      "https://s4.scoopwhoop.com/anj2/5b1a4dfb6e510a7d2408a90a/74fc54b9-f18e-4b35-b021-eba9d15cbe44_3.jpg\n",
      "https://s3.scoopwhoop.com/anj2/5b1a4dfb6e510a7d2408a90a/7f9ac430-db04-4942-9455-7e715e6251be_3.jpg\n",
      "https://s3.scoopwhoop.com/anj2/5b1a4dfb6e510a7d2408a90a/b2001272-7315-4c05-a9b7-9e55564aa27c_3.jpg\n",
      "https://s3.scoopwhoop.com/anj2/5b1a4dfb6e510a7d2408a90a/87c06ac3-9cf4-42c2-b957-b8ac700bd34d_3.jpg\n",
      "https://s3.scoopwhoop.com/anj2/5b1a4dfb6e510a7d2408a90a/26d3e529-8de1-473e-9a05-09446d338260_3.jpg\n",
      "https://s4.scoopwhoop.com/anj2/5b1a4dfb6e510a7d2408a90a/06cc3595-80a2-4841-a609-815679fb8ba9_3.jpg\n",
      "https://s4.scoopwhoop.com/anj2/5b1a4dfb6e510a7d2408a90a/16d98966-9290-49b4-a6ad-5692ac88f75c_3.jpg\n",
      "https://s3.scoopwhoop.com/anj2/5b1a4dfb6e510a7d2408a90a/bf7422f7-3a51-4665-9845-f96f33b414ee_3.jpg\n",
      "https://s3.scoopwhoop.com/anj2/5b1a4dfb6e510a7d2408a90a/e8cc32f8-d08d-46dd-bea4-f6bc38cb553b_3.jpg\n",
      "https://s3.scoopwhoop.com/anj2/5b1a4dfb6e510a7d2408a90a/15f0b2f9-5a44-4a84-8018-74881d0c1e74_3.jpg\n",
      "https://s4.scoopwhoop.com/anj2/5b1a4dfb6e510a7d2408a90a/1598326c-ac70-4d72-9a05-f54ed57f2726_3.jpg\n",
      "https://s3.scoopwhoop.com/anj2/5b1a4dfb6e510a7d2408a90a/c60f7e0c-99ae-4195-ad27-3e479ee0ee85_3.jpg\n",
      "https://s4.scoopwhoop.com/anj2/5b1a4dfb6e510a7d2408a90a/25768a0e-5ff2-4e1f-b459-0060f44e3a1a_3.jpg\n",
      "https://s4.scoopwhoop.com/anj2/5b1a4dfb6e510a7d2408a90a/6c25822d-08e3-4996-aa98-61fd8f41a994_3.jpg\n",
      "https://s3.scoopwhoop.com/anj2/5b1a4dfb6e510a7d2408a90a/123d0b36-f194-49f5-a050-c90d81d56728_3.jpg\n",
      "https://s4.scoopwhoop.com/anj2/5b1a4dfb6e510a7d2408a90a/1324ad0b-3c39-4956-80e2-f64c94d9ec1f_3.jpg\n",
      "https://s3.scoopwhoop.com/anj2/5b1a4dfb6e510a7d2408a90a/ae05a3b6-b5bb-4efd-89ae-8684ce1e77dd_3.jpg\n",
      "https://www.facebook.com/tr?id=1511988929032581&ev=PageView&noscript=1\n",
      "//googleads.g.doubleclick.net/pagead/viewthroughconversion/956616734/?value=0&guid=ON&script=0\n"
     ]
    }
   ],
   "source": [
    "image=[]\n",
    "name=[]\n",
    "date=[]\n",
    "for i in range(len(ds_image)):\n",
    "    try:\n",
    "        print(ds_image[i]['src'])\n",
    "    except:\n",
    "        pass\n",
    "    "
   ]
  },
  {
   "cell_type": "code",
   "execution_count": 223,
   "metadata": {},
   "outputs": [],
   "source": [
    "for i in range(33):\n",
    "    try:\n",
    "        l=ds_date[i].text.split()\n",
    "        date.append(\" \".join(l[2:]))\n",
    "    except:\n",
    "        pass"
   ]
  },
  {
   "cell_type": "code",
   "execution_count": 224,
   "metadata": {},
   "outputs": [],
   "source": [
    "for i in range(33):\n",
    "    try:\n",
    "        if i==8:\n",
    "            name.append(\" \".join(ds_name[8].text.split()))\n",
    "            continue\n",
    "        if i==25:\n",
    "            name.append(\" \".join(ds_name[26].text.split()))\n",
    "            continue\n",
    "        elif i==32:\n",
    "            name.append(\" \".join(ds_name[32].text.split()))\n",
    "            continue\n",
    "        name.append(ds_name[i].text)        \n",
    "    except:\n",
    "        pass\n"
   ]
  },
  {
   "cell_type": "code",
   "execution_count": 232,
   "metadata": {},
   "outputs": [
    {
     "name": "stdout",
     "output_type": "stream",
     "text": [
      "Name                                                       ReleaseDate          \n",
      "1. Avengers: Endgame                                      April 26, 2019        \n",
      "2. Star Wars: The Rise Of Skywalker                      20 December 2019       \n",
      "3. It: Chapter 2                                         6 September 2019       \n",
      "4. Frozen 2                                              22 November 2019       \n",
      "5. Pokemon: Detective Pikachu                                May 2019           \n",
      "6. Wonder Woman: 1984                                    1 November 2019        \n",
      "7. Rocketman                                               May 31, 2019         \n",
      "8. The Lion King                                          July 18, 2019         \n",
      "9. Aladdin                                                 May 23, 2019         \n",
      "10. Toy Story 4                                            20 June 2019         \n",
      "11. Godzilla: King of the Monsters                         30 May 2019          \n",
      "12. Spider-Man: Far From Home                              July 5, 2019         \n",
      "13. Dark Phoenix                                           June 7, 2019         \n",
      "14. John Wick: Chapter 3 – Parabellum                      16 May 2019          \n",
      "15. Men In Black: International                           June 14, 2019         \n",
      "16. The New Mutants                                       August 2, 2019        \n",
      "17. Gemini Man                                           October 3, 2019        \n",
      "18. Joker                                                October 3, 2019        \n",
      "19. Extremely Wicked, Shockingly Evil and Vile             May 3, 2019          \n",
      "20. Ad Astra                                               May 22, 2019         \n",
      "21. The Secret Life of Pets 2                              May 30, 2019         \n",
      "22. Late Night                                             June 7, 2019         \n",
      "23. Child's Play                                          June 21, 2019         \n",
      "24. Once Upon A Time In Hollywood                              TBA              \n",
      "25. Hobbs & Shaw                                          August 2, 2019        \n",
      "27. Downton Abbey                                         August 9, 2019        \n",
      "27. Downton Abbey                                       September 20, 2019      \n",
      "28. The Kitchen                                         September 20, 2019      \n",
      "29: Zombieland: Double Tap                               October 11, 2019       \n",
      "30. Terminator: Dark Fate                                October 31, 2019       \n",
      "31. Doctor Sleep                                         November 8, 2019       \n",
      "32. Jumanji 3                                           December 13, 2019       \n",
      "33. Annabelle Comes Home                                  June 27, 2019         \n"
     ]
    }
   ],
   "source": [
    "print(\"Name\".ljust(50)+\"ReleaseDate\".center(30))\n",
    "for i in range(33):\n",
    "    print(name[i].ljust(50)+date[i].center(30))\n",
    "try:\n",
    "    Image.open(io.BytesIO(requests.get(ds_image[i+11][\"src\"],stream=True).content)).convert(\"RGB\")\n",
    "except:\n",
    "    print(\"not opening\")\n",
    "    \n",
    "    "
   ]
  },
  {
   "cell_type": "code",
   "execution_count": 160,
   "metadata": {},
   "outputs": [
    {
     "data": {
      "image/png": "[encoded data removed]",
      "text/plain": [
       "<PIL.Image.Image image mode=RGB size=18x18 at 0x16990B97C88>"
      ]
     },
     "execution_count": 160,
     "metadata": {},
     "output_type": "execute_result"
    }
   ],
   "source": [
    "Image.open(io.BytesIO(requests.get(image[3],stream=True).content)).convert(\"RGB\")"
   ]
  },
  {
   "cell_type": "code",
   "execution_count": null,
   "metadata": {},
   "outputs": [],
   "source": [
    "from itertools import permutations"
   ]
  },
  {
   "cell_type": "code",
   "execution_count": null,
   "metadata": {},
   "outputs": [],
   "source": [
    "t=int(input())\n",
    "s=[]\n",
    "for i in range(t):\n",
    "    n=int(input())\n",
    "    l=list(map(int,input().split()))\n",
    "    for j in range(1,n+1):\n",
    "        l1=list(permutations(l,j))\n",
    "        print(l1)\n",
    "        for i in l1:\n",
    "            s.append(sum(i))\n",
    "    print(max(s))"
   ]
  }
 ],
 "metadata": {
  "kernelspec": {
   "display_name": "Python 3",
   "language": "python",
   "name": "python3"
  },
  "language_info": {
   "codemirror_mode": {
    "name": "ipython",
    "version": 3
   },
   "file_extension": ".py",
   "mimetype": "text/x-python",
   "name": "python",
   "nbconvert_exporter": "python",
   "pygments_lexer": "ipython3",
   "version": "3.6.4"
  }
 },
 "nbformat": 4,
 "nbformat_minor": 2
}
