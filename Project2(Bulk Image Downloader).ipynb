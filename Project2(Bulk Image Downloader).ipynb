{
 "cells": [
  {
   "cell_type": "code",
   "execution_count": 15,
   "metadata": {},
   "outputs": [],
   "source": [
    "from bs4 import BeautifulSoup\n",
    "import requests\n",
    "import io\n",
    "from PIL import Image"
   ]
  },
  {
   "cell_type": "code",
   "execution_count": 16,
   "metadata": {},
   "outputs": [],
   "source": [
    "d=requests.get(\"https://pixabay.com/images/search/superman/\").content"
   ]
  },
  {
   "cell_type": "code",
   "execution_count": 17,
   "metadata": {},
   "outputs": [],
   "source": [
    "bs=BeautifulSoup(d,\"lxml\").find_all('img')"
   ]
  },
  {
   "cell_type": "code",
   "execution_count": 18,
   "metadata": {},
   "outputs": [],
   "source": [
    "l=[]\n",
    "for i in range(len(bs)):\n",
    "    l.append(bs[i][\"src\"])"
   ]
  },
  {
   "cell_type": "code",
   "execution_count": 22,
   "metadata": {},
   "outputs": [],
   "source": [
    "for i in l:\n",
    "    try:\n",
    "        Image.open(io.BytesIO(requests.get(i,stream=True).content)).convert(\"RGB\").save('G:\\Machine Learning\\Super\\Super'+str(l.index(i))+\".jpg\")\n",
    "    except:\n",
    "        pass"
   ]
  },
  {
   "cell_type": "code",
   "execution_count": 23,
   "metadata": {},
   "outputs": [
    {
     "name": "stdout",
     "output_type": "stream",
     "text": [
      " Volume in drive G is New Volume\n",
      " Volume Serial Number is 44CF-02A2\n",
      "\n",
      " Directory of G:\\Machine Learning\n",
      "\n",
      "09-07-2019  03:33    <DIR>          .\n",
      "09-07-2019  03:33    <DIR>          ..\n",
      "09-07-2019  03:16    <DIR>          .ipynb_checkpoints\n",
      "17-05-2019  09:30             6,835 00First Lesson.ipynb\n",
      "17-05-2019  09:12            14,436 01Numbers.ipynb\n",
      "30-05-2019  04:00             8,734 assign1.ipynb\n",
      "31-05-2019  10:13             3,712 assign2.ipynb\n",
      "03-06-2019  08:54             9,040 assign3.ipynb\n",
      "17-06-2019  09:53    <DIR>          bostonhoustingmlnd\n",
      "17-06-2019  09:52             4,512 bostonhoustingmlnd.zip\n",
      "26-05-2019  06:38             9,557 BuiltIns.ipynb\n",
      "08-06-2019  11:00            93,684 Canvas.ipynb\n",
      "29-05-2019  10:11            12,353 Class 5 and 6(json).ipynb\n",
      "27-05-2019  22:27            16,338 Class4(Numpy).ipynb\n",
      "01-06-2019  10:14           124,689 class7(webCrawling).ipynb\n",
      "01-06-2019  10:10         1,086,815 class8(ImageScrapping).ipynb\n",
      "04-06-2019  09:48           352,949 class9(OpenCV).ipynb\n",
      "20-06-2019  09:11           148,226 Classification(ML).ipynb\n",
      "26-05-2019  16:44            14,380 Collections(Hacker).ipynb\n",
      "28-05-2019  09:53                 0 data.txt.txt\n",
      "10-06-2019  08:57    <DIR>          DataSet\n",
      "27-05-2019  03:33               555 DateAndTime.ipynb\n",
      "27-05-2019  03:15             3,080 Debugging.ipynb\n",
      "30-05-2019  19:05            25,822 diabetes.csv\n",
      "20-06-2019  10:40    <DIR>          email\n",
      "20-06-2019  10:15         3,119,980 emails.csv.zip\n",
      "11-06-2018  07:14            22,856 employee_data.csv\n",
      "08-06-2019  05:14           615,754 FaceDetect.ipynb\n",
      "19-05-2019  05:27            32,106 File Handling.ipynb\n",
      "18-05-2019  16:54         1,254,732 haar_frontal.xml\n",
      "21-05-2019  19:29            32,151 Hackerrank.ipynb\n",
      "17-04-2019  15:00           477,549 hamspam.tsv\n",
      "21-05-2019  11:00             3,859 Iterabes.ipynb\n",
      "11-06-2019  09:37            59,865 itertools(hacker).ipynb\n",
      "29-05-2019  09:58                40 Json.txt\n",
      "18-06-2019  09:04         2,996,981 LinearRegression(Practice).ipynb\n",
      "20-05-2019  12:51            24,905 ListComp.ipynb\n",
      "20-06-2019  09:12    <DIR>          Machine Learning Overview\n",
      "13-06-2019  17:14           322,338 Matplotlib.ipynb\n",
      "18-06-2019  00:57           204,366 ML.ipynb\n",
      "03-06-2019  05:39                 0 Movies.txt\n",
      "08-06-2019  09:05               823 new_image.jpg\n",
      "09-06-2019  10:13            55,441 Numpy(class13).ipynb\n",
      "27-05-2019  23:25             8,370 numpy.ipynb\n",
      "12-06-2019  08:51           288,185 Pandas.ipynb\n",
      "03-06-2019  07:14            12,323 Project(MoviesReleasing 2019).ipynb\n",
      "09-07-2019  03:00             3,326 Project1(Top Selling Laptops).ipynb\n",
      "09-07-2019  03:33             1,830 Project2(Bulk Image Downloader).ipynb\n",
      "08-06-2019  05:59             5,643 QR Scanner(Class11).ipynb\n",
      "11-01-2018  19:02               454 Salary_Data.csv\n",
      "24-05-2019  22:57            18,186 Set List Array.ipynb\n",
      "08-06-2019  09:20            38,110 ShapesOpenCV(Class10).ipynb\n",
      "09-06-2019  07:27             7,277 Snake Game.ipynb\n",
      "03-06-2019  09:38    <DIR>          Spider\n",
      "01-06-2019  10:03            20,434 Spider12.jpg\n",
      "04-06-2019  05:45            18,099 string(Hacker).ipynb\n",
      "09-07-2019  03:33    <DIR>          Super\n",
      "01-06-2019  08:56               426 table.txt\n",
      "01-06-2019  08:42                 0 table.txt.txt\n",
      "29-05-2019  12:43            61,659 test.jpg\n",
      "19-05-2019  05:25                47 test.txt\n",
      "17-05-2019  10:18    <DIR>          Text.txt\n",
      "21-06-2019  09:12            28,203 TextClassification.ipynb\n",
      "23-05-2019  00:05             4,530 TicTacToe.ipynb\n",
      "06-06-2019  08:50           287,578 Untitled.ipynb\n",
      "16-05-2019  10:57             3,439 Untitled1.ipynb\n",
      "14-06-2019  09:46           344,091 Untitled2.ipynb\n",
      "17-05-2019  10:05             3,089 Untitled4.ipynb\n",
      "19-05-2019  05:38            23,105 Variables.html\n",
      "19-05-2019  06:45             2,447 Variables.ipynb\n",
      "19-05-2019  05:38    <DIR>          Variables_files\n",
      "13-02-2019  12:50           321,104 white-wine.csv\n",
      "13-02-2019  12:50            13,142 wine.csv\n",
      "13-02-2019  12:50            84,199 winequality-red.csv\n",
      "06-06-2019  09:06         3,257,279 zbar-0.10-setup.exe\n",
      "20-06-2019  09:04            20,957 zero.jpg\n",
      "              65 File(s)     16,036,995 bytes\n",
      "              11 Dir(s)  217,061,044,224 bytes free\n"
     ]
    }
   ],
   "source": [
    "!dir"
   ]
  },
  {
   "cell_type": "code",
   "execution_count": null,
   "metadata": {},
   "outputs": [],
   "source": []
  }
 ],
 "metadata": {
  "kernelspec": {
   "display_name": "Python 3",
   "language": "python",
   "name": "python3"
  },
  "language_info": {
   "codemirror_mode": {
    "name": "ipython",
    "version": 3
   },
   "file_extension": ".py",
   "mimetype": "text/x-python",
   "name": "python",
   "nbconvert_exporter": "python",
   "pygments_lexer": "ipython3",
   "version": "3.6.4"
  }
 },
 "nbformat": 4,
 "nbformat_minor": 2
}
